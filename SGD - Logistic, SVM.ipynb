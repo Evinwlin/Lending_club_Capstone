{
 "cells": [
  {
   "cell_type": "code",
   "execution_count": 2,
   "id": "a719b2a6",
   "metadata": {},
   "outputs": [],
   "source": [
    "# libraries\n",
    "import pandas as pd\n",
    "import numpy as np\n",
    "pd.set_option('display.max_columns', 200)\n",
    "pd.set_option('display.max_rows', 200)\n",
    "import seaborn as sns\n",
    "\n",
    "import matplotlib.pyplot as plt\n",
    "%matplotlib inline\n",
    "plt.style.use('ggplot')\n",
    "import warnings\n",
    "import time\n",
    "\n",
    "warnings.filterwarnings('ignore')\n",
    "warnings.filterwarnings(action=\"ignore\", module=\"sklearn\", message=\"^n_iter\")\n",
    "\n",
    "from statsmodels.stats.outliers_influence import variance_inflation_factor\n",
    "from sklearn.linear_model import LogisticRegressionCV, SGDClassifier, LogisticRegression\n",
    "from sklearn.utils import resample\n",
    "from sklearn.feature_selection import chi2, f_classif, mutual_info_classif, RFECV, SelectKBest, SelectFromModel\n",
    "from sklearn.model_selection import train_test_split, KFold, cross_val_score\n",
    "\n",
    "from sklearn.metrics import classification_report, roc_curve, confusion_matrix, f1_score, roc_auc_score\n",
    "from sklearn.preprocessing import StandardScaler, MinMaxScaler, OneHotEncoder\n",
    "\n",
    "from sklearn.pipeline import Pipeline\n",
    "from sklearn.model_selection import GridSearchCV, RandomizedSearchCV, cross_val_score, cross_validate, learning_curve\n",
    "\n",
    "from sklearn.kernel_approximation import Nystroem"
   ]
  },
  {
   "cell_type": "code",
   "execution_count": 3,
   "id": "d7a5fa52",
   "metadata": {},
   "outputs": [],
   "source": [
    "data = pd.read_csv(\"data.csv\")\n",
    "data.drop(\"Unnamed: 0\", axis = 1, inplace = True)"
   ]
  },
  {
   "cell_type": "code",
   "execution_count": 4,
   "id": "c9dcae52",
   "metadata": {},
   "outputs": [],
   "source": [
    "# Sample for logistic and SVM\n",
    "data_log = data.copy()\n",
    "data_svm = data.copy()"
   ]
  },
  {
   "cell_type": "code",
   "execution_count": 4,
   "id": "ec654a09",
   "metadata": {},
   "outputs": [],
   "source": [
    "var = data_log.select_dtypes(exclude = \"object\")\n",
    "vif_data = pd.DataFrame()\n",
    "vif_data[\"feature\"] = var.columns\n",
    "vif_data[\"VIF\"] = [variance_inflation_factor(var.values, i)for i in range(len(var.columns))]"
   ]
  },
  {
   "cell_type": "code",
   "execution_count": null,
   "id": "03c20834",
   "metadata": {},
   "outputs": [],
   "source": [
    "vif_data[vif_data[\"VIF\"]> 10].feature"
   ]
  },
  {
   "cell_type": "code",
   "execution_count": 50,
   "id": "a9021365",
   "metadata": {},
   "outputs": [],
   "source": [
    "# Processing for Logistic\n",
    "# Removing Multicolinearity\n",
    "high_vif = [\"fico_range_high\", \"sec_app_fico_range_high\", \"fico_range_low\", \"sec_app_fico_range_low\",\n",
    "               \"loan_amnt\", \"open_acc\", \"tot_hi_cred_lim\",\"num_rev_tl_bal_gt_0\", \"issue_d_year\",\"total_acc\",\n",
    "               \"num_op_rev_tl\",\"pct_tl_nvr_dlq\",\"total_rev_hi_lim\",\"num_sats\",\"num_rev_accts\",\"total_bc_limit\",\n",
    "               \"bc_util\",\"sec_app_open_acc\",\"num_actv_rev_tl\",\"num_bc_sats\",\"total_bal_ex_mort\",\"revol_util\",\"term\",\n",
    "                \"acc_open_past_24mths\",\"all_util\",\"pub_rec\", \"tot_cur_bal\"]\n",
    "data_log.drop(high_vif, axis = 1, inplace = True)"
   ]
  },
  {
   "cell_type": "code",
   "execution_count": 1,
   "id": "1ecbf904",
   "metadata": {},
   "outputs": [],
   "source": [
    "from sklearn.base import BaseEstimator, TransformerMixin\n",
    "from sklearn.preprocessing import StandardScaler, LabelEncoder, OneHotEncoder\n",
    "from scipy.sparse import csr_matrix\n",
    "\n",
    "class oneHotEncodeCategorical(BaseEstimator, TransformerMixin):\n",
    "\n",
    "    def fit(self, X, y=None):\n",
    "        self.mycategories = []\n",
    "        for column in X.columns.values.tolist():\n",
    "            self.mycategories.append(X[column].unique())\n",
    "        self.ohe = OneHotEncoder(categories = self.mycategories).fit(X)\n",
    "        return self\n",
    "\n",
    "    def transform(self, X, y=None):\n",
    "        index = X.index\n",
    "        X = self.ohe.transform(X)\n",
    "        columns = self.ohe.get_feature_names()\n",
    "        X = csr_matrix(X)\n",
    "        X = pd.SparseDataFrame(data=X, index=index, columns=columns, default_fill_value=0, dtype=np.int64)\n",
    "        return X"
   ]
  },
  {
   "cell_type": "code",
   "execution_count": 13,
   "id": "af51ddff",
   "metadata": {},
   "outputs": [
    {
     "data": {
      "text/plain": [
       "oneHotEncodeCategorical()"
      ]
     },
     "execution_count": 13,
     "metadata": {},
     "output_type": "execute_result"
    }
   ],
   "source": [
    "oneHotEncodeCategorical()"
   ]
  },
  {
   "cell_type": "code",
   "execution_count": 6,
   "id": "bbaaf7ab",
   "metadata": {},
   "outputs": [],
   "source": [
    "# # Upsampling for imbalance\n",
    "# def binary_upsample(data, label):\n",
    "#     value_count = data[label].value_counts()\n",
    "#     frqs = data[label].value_counts().values\n",
    "#     idc = data[label].value_counts().index\n",
    "#     minorfrq = value_count[frqs == min(frqs)].index[0] \n",
    "#     n_sample = max(frqs) - min(frqs)\n",
    "#     minorindex = data[label][data[label] == minorfrq].index.values\n",
    "#     resampled = resample(minorindex, n_samples = n_sample)\n",
    "#     _ = pd.DataFrame(list(data.index) + list(resampled), columns =[\"Index\"])\n",
    "#     balanced = pd.merge(_, data, how =\"left\", left_on= \"Index\", right_on= data.index)\n",
    "#     return balanced\n",
    "\n",
    "# dum_log = binary_upsample(dum_log, \"default\").reindex()\n",
    "# dum_svm = binary_upsample(dum_svm, \"default\").reindex()\n",
    "# dum_log.drop(\"Index\", axis = 1, inplace = True)\n",
    "# dum_svm.drop(\"Index\", axis = 1, inplace = True)"
   ]
  },
  {
   "cell_type": "code",
   "execution_count": null,
   "id": "12475c02",
   "metadata": {},
   "outputs": [],
   "source": [
    "# Processing done !!!\n",
    "# dum_log.default.mean()"
   ]
  },
  {
   "cell_type": "code",
   "execution_count": 18,
   "id": "ab672699",
   "metadata": {},
   "outputs": [
    {
     "name": "stdout",
     "output_type": "stream",
     "text": [
      "(144856, 94436) (144856,)\n"
     ]
    }
   ],
   "source": [
    "# SVM Data \n",
    "target = dum_svm[\"default\"]\n",
    "features = dum_svm.drop(\"default\", axis = 1)\n",
    "svm_train, svm_test, Y_SVM_train, Y_SVM_test = train_test_split(features, target, test_size=0.3, random_state = 42)\n",
    "print(svm_train.shape, Y_SVM_train.shape) "
   ]
  },
  {
   "cell_type": "code",
   "execution_count": 19,
   "id": "b855d196",
   "metadata": {},
   "outputs": [
    {
     "name": "stdout",
     "output_type": "stream",
     "text": [
      "(144856, 94436) (144856,)\n"
     ]
    }
   ],
   "source": [
    "# Splitting for training and testing Logistic\n",
    "target = dum_log[\"default\"]\n",
    "features = dum_log.drop(\"default\", axis = 1)\n",
    "X_train, X_test, Y_train, Y_test = train_test_split(features, target, test_size=0.3, random_state = 42)\n",
    "print(X_train.shape, Y_train.shape) "
   ]
  },
  {
   "cell_type": "markdown",
   "id": "195508b7",
   "metadata": {},
   "source": [
    "### Logistic Regression"
   ]
  },
  {
   "cell_type": "code",
   "execution_count": 21,
   "id": "0138fa16",
   "metadata": {},
   "outputs": [],
   "source": [
    "# Setup \n",
    "KF = KFold(5, shuffle = True, random_state= 42)\n",
    "\n",
    "def SGD_LOG(X_train, Y_train, X_test, Y_test, params ):\n",
    "    start = time.time()\n",
    "    X1 = MinMaxScaler().fit_transform(X_train)\n",
    "    X2 = MinMaxScaler().fit_transform(X_test)\n",
    "    sgd = SGDClassifier(loss='log', shuffle= True, n_jobs = -1, warm_start = True, class_weight = \"balanced\", \n",
    "                        alpha= params[0] ,eta0 = params[1], \n",
    "                        l1_ratio = params[2], max_iter = params[3],\n",
    "                        learning_rate= params[4], penalty = params[5]\n",
    "                       ).fit(X1, Y_train)                     \n",
    "    stop = time.time()\n",
    "    Time = stop - start\n",
    "    TrainCV = cross_val_score(sgd, X1, Y_train, cv=KF, scoring = \"f1\", n_jobs = -1)\n",
    "    train_F1Score = f1_score(Y_train, sgd.predict(X1))\n",
    "    train_ac = sgd.score(X1, Y_train)\n",
    "    Train_CM = confusion_matrix(Y_train, sgd.predict(X1))\n",
    "    \n",
    "    TestCV = cross_val_score(sgd, X2, Y_test, cv=KF, scoring = \"f1\", n_jobs = -1)\n",
    "    test_F1Score = f1_score(Y_test, sgd.predict(X2))\n",
    "    tes_ac = sgd.score(X2, Y_test) \n",
    "    Test_CM = confusion_matrix(Y_test, sgd.predict(X2))\n",
    "    \n",
    "    return TrainCV, train_F1Score , train_ac, Train_CM, TestCV, test_F1Score, tes_ac, Test_CM, Time"
   ]
  },
  {
   "cell_type": "code",
   "execution_count": null,
   "id": "c8ee2a4f",
   "metadata": {},
   "outputs": [],
   "source": [
    "def scaler(x):\n",
    "    X = MinMaxScaler().fit_transform(x)\n",
    "    return X"
   ]
  },
  {
   "cell_type": "code",
   "execution_count": null,
   "id": "fadcfbd6",
   "metadata": {},
   "outputs": [],
   "source": [
    "# Logistic Regression SGD - GridSearch\n",
    "pipeline = Pipeline([('model',SGDClassifier(loss='log', shuffle=True, n_jobs = -1, warm_start= True,class_weight = \"balanced\",\n",
    "                                            random_state = 42, eta0 = 0.0001))])\n",
    "X= scaler(X_train)\n",
    "# pipeline.get_params().keys()\n",
    "param_grid = {'model__l1_ratio': [0.1, 0.2, 0.3, 0.4, 0.5, 0.6, 0.7, 0.8 ],\n",
    "                  \"model__max_iter\": [1000, 2000, 3000, 4000],\n",
    "                  \"model__penalty\": [\"elasticnet\", \"l1\", \"l2\"],\n",
    "                  \"model__alpha\" : [0.1, 0.01, 0.001, 0.0001,0.5, 0.005, 0.00005],\n",
    "                  \"model__warm_start\": [True, False],\n",
    "                  \"model__eta0\": [0.1, 0.001, 0.01, 0.0001, 0.5, 0.005, 0.00005],\n",
    "                 \"model__learning_rate\" : [\"constant\", \"optimal\", \"invscaling\", \"adaptive\"]},\n",
    "\n",
    "search = RandomizedSearchCV(\n",
    "    estimator = pipeline,\n",
    "    param_distributions = param_grid,\n",
    "    n_iter = 100, \n",
    "    return_train_score = True,\n",
    "    n_jobs= -1,\n",
    "    scoring=\"f1\",\n",
    "    cv = KF,\n",
    "    verbose=3)\n",
    "search = search.fit(X, Y_train)\n",
    "print(search.best_params_, search.best_score_)"
   ]
  },
  {
   "cell_type": "code",
   "execution_count": null,
   "id": "d973933a",
   "metadata": {},
   "outputs": [],
   "source": [
    "SGD_LOG(svm_train, Y_SVM_train,svm_test, Y_SVM_test,  params = [0.0001, 0.1, 0.1, 1000, \"optimal\", \"elasticnet\"])"
   ]
  },
  {
   "cell_type": "code",
   "execution_count": 180,
   "id": "2a3955f6",
   "metadata": {},
   "outputs": [
    {
     "name": "stdout",
     "output_type": "stream",
     "text": [
      "Fitting 5 folds for each of 500 candidates, totalling 2500 fits\n",
      "{'selector__k': 110, 'model__warm_start': True, 'model__penalty': 'elasticnet', 'model__max_iter': 2000, 'model__learning_rate': 'constant', 'model__l1_ratio': 0.3, 'model__eta0': 0.001, 'model__alpha': 0.01} 0.8344969718972861\n"
     ]
    }
   ],
   "source": [
    "# SelectK - Chi2 \n",
    "pipeline = Pipeline([('selector',SelectKBest(chi2)),\n",
    "                     ('model',SGDClassifier(loss='log', shuffle=True,n_jobs = -1, \n",
    "                                            random_state = 42, eta0 = 0.0001, warm_start = True))])  \n",
    "                                                                                    \n",
    "# pipeline.get_params().keys()\n",
    "X= scaler(X_train)\n",
    "param_grid = {'selector__k': range(50, 129, 10),\n",
    "              'model__l1_ratio': [0.1, 0.2, 0.3, 0.4, 0.5, 0.7],\n",
    "              \"model__max_iter\": [1000, 2000, 10000],\n",
    "              \"model__penalty\": [\"elasticnet\", \"l1\", \"l2\"],\n",
    "              \"model__alpha\" : [0.1, 0.01, 0.001, 0.0001],\n",
    "              \"model__warm_start\": [True, False],\n",
    "              \"model__eta0\": [0.1, 0.001, 0.0001],\n",
    "              \"model__learning_rate\" : [\"constant\", \"optimal\", \"invscaling\", \"adaptive\"]},\n",
    "\n",
    "search = RandomizedSearchCV(\n",
    "    estimator = pipeline,\n",
    "    param_distributions = param_grid,\n",
    "    n_iter = 500, \n",
    "    return_train_score = True,\n",
    "    n_jobs= -1,\n",
    "    scoring=\"f1\",\n",
    "    cv = KF,\n",
    "    verbose=3)\n",
    "search = search.fit(X, Y_train)\n",
    "print(search.best_params_, search.best_score_)"
   ]
  },
  {
   "cell_type": "code",
   "execution_count": 202,
   "id": "b8579ad2",
   "metadata": {},
   "outputs": [
    {
     "data": {
      "text/plain": [
       "(array([0.8329343 , 0.80411774, 0.8166582 , 0.78063273, 0.76174656]),\n",
       " 0.8360889448445686,\n",
       " 0.8298557947942625,\n",
       " array([[61801, 16053],\n",
       "        [10506, 67737]]),\n",
       " array([0.8481305 , 0.8119106 , 0.77785641, 0.78343506, 0.81221601]),\n",
       " 0.8369290629809228,\n",
       " 0.8321051136788293,\n",
       " array([[26844,  6800],\n",
       "        [ 4432, 28823]]),\n",
       " 1.0061140060424805)"
      ]
     },
     "execution_count": 202,
     "metadata": {},
     "output_type": "execute_result"
    }
   ],
   "source": [
    "chi_train = SelectKBest(chi2, k = 110).fit_transform(X_train, Y_train)\n",
    "chi_test = SelectKBest(chi2, k = 110).fit_transform(X_test, Y_test)\n",
    "SGD_LOG(chi_train, Y_train, chi_test, Y_test, params = [0.1, 0.001, 0.3, 2000, \"constant\", \"elasticnet\"])\n",
    "# Overfitting"
   ]
  },
  {
   "cell_type": "code",
   "execution_count": 182,
   "id": "81977d4d",
   "metadata": {},
   "outputs": [
    {
     "name": "stdout",
     "output_type": "stream",
     "text": [
      "Fitting 5 folds for each of 500 candidates, totalling 2500 fits\n",
      "{'selector__k': 100, 'model__warm_start': True, 'model__penalty': 'elasticnet', 'model__max_iter': 2000, 'model__learning_rate': 'constant', 'model__l1_ratio': 0.2, 'model__eta0': 0.1, 'model__alpha': 0.0001} 0.8368543823616132\n"
     ]
    }
   ],
   "source": [
    "# SelectK - F_class\n",
    "pipeline = Pipeline([('selector',SelectKBest(f_classif)),\n",
    "                     ('model',SGDClassifier(loss='log', shuffle=True,n_jobs = -1, \n",
    "                                            random_state = 42, eta0 = 0.0001, warm_start = True))])  \n",
    "                                                                                    \n",
    "# pipeline.get_params().keys()\n",
    "X= scaler(X_train)\n",
    "param_grid = {'selector__k': range(50, 129, 10),\n",
    "              'model__l1_ratio': [0.1, 0.2, 0.3, 0.4, 0.5, 0.7],\n",
    "              \"model__max_iter\": [1000, 2000, 10000],\n",
    "              \"model__penalty\": [\"elasticnet\", \"l1\", \"l2\"],\n",
    "              \"model__alpha\" : [0.1, 0.01, 0.001, 0.0001],\n",
    "              \"model__warm_start\": [True, False],\n",
    "              \"model__eta0\": [0.1, 0.001, 0.0001],\n",
    "              \"model__learning_rate\" : [\"constant\", \"optimal\", \"invscaling\", \"adaptive\"]},\n",
    "\n",
    "search = RandomizedSearchCV(\n",
    "    estimator = pipeline,\n",
    "    param_distributions = param_grid,\n",
    "    n_iter = 500, \n",
    "    return_train_score = True,\n",
    "    n_jobs= -1,\n",
    "    scoring=\"f1\",\n",
    "    cv = KF,\n",
    "    verbose=3)\n",
    "search = search.fit(X, Y_train)\n",
    "print(search.best_params_, search.best_score_)"
   ]
  },
  {
   "cell_type": "code",
   "execution_count": 200,
   "id": "60603275",
   "metadata": {},
   "outputs": [
    {
     "data": {
      "text/plain": [
       "(array([0.83661399, 0.80812802, 0.8359965 , 0.79868352, 0.78101872]),\n",
       " 0.8432354780584159,\n",
       " 0.8378123858882618,\n",
       " array([[62690, 15164],\n",
       "        [10153, 68090]]),\n",
       " array([0.74530605, 0.7943662 , 0.85370242, 0.7984639 , 0.86133812]),\n",
       " 0.8364089045108378,\n",
       " 0.833031883884662,\n",
       " array([[27174,  6470],\n",
       "        [ 4700, 28555]]),\n",
       " 0.9215970039367676)"
      ]
     },
     "execution_count": 200,
     "metadata": {},
     "output_type": "execute_result"
    }
   ],
   "source": [
    "f_train, f_test = SelectKBest(f_classif, k = 100).fit_transform(X_train, Y_train), SelectKBest(f_classif, k = 100).fit_transform(X_test, Y_test)\n",
    "SGD_LOG(f_train, Y_train, f_test, Y_test, params = [0.01, 0.1, 0.2, 2000, \"constant\", \"elasticnet\"])"
   ]
  },
  {
   "cell_type": "code",
   "execution_count": 203,
   "id": "5e0b9eac",
   "metadata": {},
   "outputs": [
    {
     "name": "stdout",
     "output_type": "stream",
     "text": [
      "Fitting 5 folds for each of 10 candidates, totalling 50 fits\n",
      "{'selector__k': 120, 'model__warm_start': True, 'model__penalty': 'l1', 'model__max_iter': 1000, 'model__learning_rate': 'constant', 'model__l1_ratio': 0.1, 'model__eta0': 0.0001, 'model__alpha': 0.01} 0.889971955405548\n"
     ]
    }
   ],
   "source": [
    "# SelectK - MI\n",
    "pipeline = Pipeline([('selector',SelectKBest(mutual_info_classif)),\n",
    "                     ('model',SGDClassifier(loss='log', shuffle=True,n_jobs = -1, \n",
    "                                            random_state = 42, eta0 = 0.0001, warm_start = True))])  \n",
    "                                                                                    \n",
    "# pipeline.get_params().keys()\n",
    "X= scaler(X_train)\n",
    "param_grid = {'selector__k': range(50, 129, 10),\n",
    "              'model__l1_ratio': [0.1, 0.2, 0.3, 0.4, 0.5, 0.7],\n",
    "              \"model__max_iter\": [1000, 2000, 10000],\n",
    "              \"model__penalty\": [\"elasticnet\", \"l1\", \"l2\"],\n",
    "              \"model__alpha\" : [0.1, 0.01, 0.001, 0.0001],\n",
    "              \"model__warm_start\": [True, False],\n",
    "              \"model__eta0\": [0.1, 0.001, 0.0001],\n",
    "              \"model__learning_rate\" : [\"constant\", \"optimal\", \"invscaling\", \"adaptive\"]},\n",
    "\n",
    "search = RandomizedSearchCV(\n",
    "    estimator = pipeline,\n",
    "    param_distributions = param_grid,\n",
    "    n_iter = 10, \n",
    "    return_train_score = True,\n",
    "    n_jobs= -1,\n",
    "    scoring=\"f1\",\n",
    "    cv = KF,\n",
    "    verbose=3)\n",
    "search = search.fit(X, Y_train)\n",
    "print(search.best_params_, search.best_score_)"
   ]
  },
  {
   "cell_type": "code",
   "execution_count": 204,
   "id": "ce49dd8b",
   "metadata": {},
   "outputs": [
    {
     "data": {
      "text/plain": [
       "(array([0.88919756, 0.88890813, 0.88985031, 0.89083416, 0.89106962]),\n",
       " 0.8900444567295511,\n",
       " 0.877678622907551,\n",
       " array([[59724, 18130],\n",
       "        [  964, 77279]]),\n",
       " array([0.8852323 , 0.88261253, 0.88681447, 0.87964626, 0.88807588]),\n",
       " 0.8897381688079361,\n",
       " 0.8783838323442802,\n",
       " array([[25937,  7707],\n",
       "        [  429, 32826]]),\n",
       " 3.9936108589172363)"
      ]
     },
     "execution_count": 204,
     "metadata": {},
     "output_type": "execute_result"
    }
   ],
   "source": [
    "MI_train, MI_test = SelectKBest(mutual_info_classif, k = 120).fit_transform(X_train, Y_train), SelectKBest(mutual_info_classif, k = 120).fit_transform(X_test, Y_test)\n",
    "SGD_LOG(MI_train, Y_train, MI_test, Y_test, params = [0.01, 0.0001, 0.1, 1000, \"constant\", \"l1\"])"
   ]
  },
  {
   "cell_type": "code",
   "execution_count": 185,
   "id": "00b7c43d",
   "metadata": {},
   "outputs": [
    {
     "name": "stdout",
     "output_type": "stream",
     "text": [
      "27 [  1   1  25   1  15  19  17   1   8  26  10  31  30  14  32  38  40  42\n",
      "  16  46  33  53  52  50   1  61   1  60  18  64  20   1  24  72  45  58\n",
      "  59  65  49   1   1  34  66  94  68   1  74  76  78  80  82  73   3  95\n",
      "  86  88  92  93  91  90  96  98 100 102 104 105   1   1   1   1   1   1\n",
      "   1  27  28   1  11  21   1   1   1   1  22   6   4   5  35  44  23   1\n",
      "  51  12  55  37  39   1  43  48  75  69   1  56  41  70  47  77   9  67\n",
      "  54  13  62   1   1  79  81  83  84  63  71  87  85  89  57   2  29  36\n",
      "   7  97  99 101 103]\n"
     ]
    }
   ],
   "source": [
    "# RFE - Orginal model\n",
    "estimator = SGDClassifier(loss='log', shuffle=True, penalty = \"l1\", n_jobs = -1, random_state = 42, alpha = 0.0001,\n",
    "                    learning_rate=\"optimal\", warm_start = True, eta0 = 0.1, l1_ratio= 0.1, max_iter= 1000)\n",
    "selector = RFECV(estimator, step = 1, cv = KF, n_jobs = -1, scoring = \"f1\").fit(scaler(X_train), Y_train)\n",
    "print(selector.n_features_, selector.ranking_)"
   ]
  },
  {
   "cell_type": "code",
   "execution_count": 205,
   "id": "11b0abe3",
   "metadata": {},
   "outputs": [
    {
     "data": {
      "text/plain": [
       "(array([0.89069626, 0.89233859, 0.89336479, 0.8933428 , 0.8940521 ]),\n",
       " 0.8926145912470934,\n",
       " 0.8804717579453801,\n",
       " array([[59894, 17960],\n",
       "        [  698, 77545]]),\n",
       " array([0.89227182, 0.88948319, 0.89623087, 0.88881328, 0.89324824]),\n",
       " 0.8920757990620001,\n",
       " 0.8809847680832299,\n",
       " array([[26031,  7613],\n",
       "        [  349, 32906]]),\n",
       " 1.1994130611419678)"
      ]
     },
     "execution_count": 205,
     "metadata": {},
     "output_type": "execute_result"
    }
   ],
   "source": [
    "RFE = pd.DataFrame(selector.support_, index = X_train.columns).rename(columns = {0:\"selected\"})  \n",
    "RFE_train, RFE_test = X_train[RFE[RFE.selected == True].index], X_test[RFE[RFE.selected == True].index]\n",
    "SGD_LOG(RFE_train, Y_train, RFE_test, Y_test, params = [0.0001, 0.1, 0.1, 1000, \"optimal\", \"l1\"])"
   ]
  },
  {
   "cell_type": "code",
   "execution_count": 186,
   "id": "311b27e4",
   "metadata": {},
   "outputs": [],
   "source": [
    "# Select from moel - logsitic\n",
    "Model_sel = SelectFromModel(estimator = estimator).fit(scaler(X_train), Y_train)\n",
    "Model_selected = pd.DataFrame(Model_sel.get_support(), index = X_train.columns).rename(columns = {0: \"selected\"})\n",
    "ms_train, ms_test = X_train[Model_selected[Model_selected.selected == True].index], X_test[Model_selected[Model_selected.selected == True].index]"
   ]
  },
  {
   "cell_type": "code",
   "execution_count": 206,
   "id": "91024ee1",
   "metadata": {},
   "outputs": [
    {
     "data": {
      "text/plain": [
       "(array([0.89160819, 0.8914523 , 0.89385507, 0.89474278, 0.89409667]),\n",
       " 0.8930819057261525,\n",
       " 0.8809330096030032,\n",
       " array([[59887, 17967],\n",
       "        [  619, 77624]]),\n",
       " array([0.89559731, 0.8898702 , 0.89617412, 0.89087463, 0.89361416]),\n",
       " 0.8930240117011335,\n",
       " 0.8819264861956083,\n",
       " array([[26030,  7614],\n",
       "        [  285, 32970]]),\n",
       " 0.6216330528259277)"
      ]
     },
     "execution_count": 206,
     "metadata": {},
     "output_type": "execute_result"
    }
   ],
   "source": [
    "SGD_LOG(ms_train, Y_train, ms_test, Y_test, params = [0.0001, 0.1, 0.1, 1000, \"optimal\", \"l1\"])"
   ]
  },
  {
   "cell_type": "code",
   "execution_count": 15,
   "id": "7578201a",
   "metadata": {},
   "outputs": [
    {
     "data": {
      "text/plain": [
       "0.7692218768464049"
      ]
     },
     "execution_count": 15,
     "metadata": {},
     "output_type": "execute_result"
    }
   ],
   "source": [
    "59887/(59887 + 17967)"
   ]
  },
  {
   "cell_type": "markdown",
   "id": "f6dafc34",
   "metadata": {},
   "source": [
    "### SVM"
   ]
  },
  {
   "cell_type": "code",
   "execution_count": 58,
   "id": "f4b9f247",
   "metadata": {},
   "outputs": [],
   "source": [
    "from sklearn.kernel_approximation import Nystroem\n",
    "def Kernel_tranf(data):\n",
    "    num_features = data.shape[1]\n",
    "    data = MinMaxScaler().fit_transform(data)\n",
    "    NEW = Nystroem(random_state = 42, n_jobs = -1, n_components = num_features, gamma = (1/num_features)).fit_transform(data)\n",
    "    return NEW"
   ]
  },
  {
   "cell_type": "code",
   "execution_count": 59,
   "id": "5a2ed4fb",
   "metadata": {},
   "outputs": [],
   "source": [
    "# Setup \n",
    "KF = KFold(5, shuffle = True, random_state= 42)\n",
    "\n",
    "def SGD_SVM(X_train, Y_train, X_test, Y_test, params = [0.2,0.1, 0.55, 5000, \"elasticnet\"]):\n",
    "    start = time.time()\n",
    "    X1 = Kernel_tranf(X_train)\n",
    "    X2 = Kernel_tranf(X_test)\n",
    "    sgd = SGDClassifier(loss='hinge', shuffle= True, n_jobs = -1, random_state = 42, warm_start = True,  \n",
    "                        alpha= params[0] ,eta0 = params[1], \n",
    "                        l1_ratio = params[2], max_iter = params[3],\n",
    "                        learning_rate= params[4], penalty = params[5]\n",
    "                       ).fit(X1, Y_train)                     \n",
    "    stop = time.time()\n",
    "    Time = stop - start\n",
    "    TrainCV = cross_val_score(sgd, X1, Y_train, cv=KF, scoring = \"f1\", n_jobs = -1)\n",
    "    train_F1Score = f1_score(Y_train, sgd.predict(X1))\n",
    "    train_ac = sgd.score(X1, Y_train)\n",
    "    Train_CM = confusion_matrix(Y_train, sgd.predict(X1))\n",
    "    \n",
    "    TestCV = cross_val_score(sgd, X2, Y_test, cv=KF, scoring = \"f1\", n_jobs = -1)\n",
    "    test_F1Score = f1_score(Y_test, sgd.predict(X2))\n",
    "    tes_ac = sgd.score(X2, Y_test) \n",
    "    Test_CM = confusion_matrix(Y_test, sgd.predict(X2))\n",
    "    \n",
    "    return TrainCV, train_F1Score, train_ac, Train_CM, TestCV, test_F1Score, tes_ac, Test_CM, Time"
   ]
  },
  {
   "cell_type": "code",
   "execution_count": 67,
   "id": "9ad5180e",
   "metadata": {},
   "outputs": [
    {
     "name": "stdout",
     "output_type": "stream",
     "text": [
      "Fitting 5 folds for each of 12 candidates, totalling 60 fits\n",
      "{'model__max_iter': 1000, 'model__C': 10} 0.6450826467355524\n"
     ]
    }
   ],
   "source": [
    "# SVM SGD - GridSearch\n",
    "# svm_train, svm_test, Y_SVM_train, Y_SVM_test\n",
    "\n",
    "\n",
    "pipeline = Pipeline([('model', LinearSVC(random_state = 42, dual))])\n",
    "\n",
    "X = scaler(svm_train)\n",
    "# pipeline.get_params().keys()\n",
    "param_grid = {'model__C': [0.01, 0.01, 1, 10],\n",
    "              \"model__max_iter\": [1000, 2000, 5000],\n",
    "              \"model__penalty\": [\"l1\", \"l2\"],\n",
    "             },\n",
    "\n",
    "search = RandomizedSearchCV(\n",
    "    estimator = pipeline,\n",
    "    param_distributions = param_grid,\n",
    "    n_iter = 50, \n",
    "    return_train_score = True,\n",
    "    n_jobs= -1,\n",
    "    scoring=\"f1\",\n",
    "    cv = KF,\n",
    "    verbose=3)\n",
    "search = search.fit(X, Y_SVM_train)\n",
    "print(search.best_params_, search.best_score_)"
   ]
  },
  {
   "cell_type": "code",
   "execution_count": 60,
   "id": "2871e71e",
   "metadata": {},
   "outputs": [
    {
     "data": {
      "text/plain": [
       "(array([0.6654983 , 0.66609699, 0.666567  , 0.68027867, 0.66628217]),\n",
       " 0.6693772645024864,\n",
       " 0.5071974477408279,\n",
       " array([[ 1301, 76553],\n",
       "        [  372, 77871]]),\n",
       " array([0., 0., 0., 0., 0.]),\n",
       " 0.6640773209257743,\n",
       " 0.4970926321768636,\n",
       " array([[    0, 33644],\n",
       "        [    0, 33255]]),\n",
       " 1.8931188583374023)"
      ]
     },
     "execution_count": 60,
     "metadata": {},
     "output_type": "execute_result"
    }
   ],
   "source": [
    "SGD_SVM(svm_train, Y_SVM_train, svm_test, Y_SVM_test, params = [1, 0.001, 0.1, 1000, \"invscaling\", \"l2\"])"
   ]
  },
  {
   "cell_type": "code",
   "execution_count": 17,
   "id": "f65b0de2",
   "metadata": {},
   "outputs": [
    {
     "data": {
      "text/plain": [
       "0.01671076630616282"
      ]
     },
     "execution_count": 17,
     "metadata": {},
     "output_type": "execute_result"
    }
   ],
   "source": [
    "1301/(1301+76553)"
   ]
  },
  {
   "cell_type": "code",
   "execution_count": 226,
   "id": "7f1cba43",
   "metadata": {},
   "outputs": [
    {
     "name": "stdout",
     "output_type": "stream",
     "text": [
      "Fitting 5 folds for each of 500 candidates, totalling 2500 fits\n",
      "{'selector__k': 110, 'model__warm_start': True, 'model__penalty': 'l1', 'model__max_iter': 10000, 'model__learning_rate': 'invscaling', 'model__l1_ratio': 0.1, 'model__eta0': 0.0001, 'model__alpha': 0.1} 0.6677650108854161\n"
     ]
    }
   ],
   "source": [
    "# SelectK - Chi2 \n",
    "pipeline = Pipeline([('selector',SelectKBest(chi2)),\n",
    "                     ('model',SGDClassifier(loss='hinge', shuffle=True,n_jobs = -1, \n",
    "                                            random_state = 42, eta0 = 0.0001, warm_start = True))])  \n",
    "                                                                                    \n",
    "# pipeline.get_params().keys()\n",
    "X= scaler(svm_train)\n",
    "param_grid = {'selector__k': range(50, 129, 10),\n",
    "              'model__l1_ratio': [0.1, 0.2, 0.3, 0.4, 0.5, 0.7],\n",
    "              \"model__max_iter\": [1000, 2000, 10000],\n",
    "              \"model__penalty\": [\"elasticnet\", \"l1\", \"l2\"],\n",
    "              \"model__alpha\" : [0.1, 0.01, 0.001, 0.0001],\n",
    "              \"model__warm_start\": [True, False],\n",
    "              \"model__eta0\": [0.1, 0.001, 0.0001],\n",
    "              \"model__learning_rate\" : [\"constant\", \"optimal\", \"invscaling\", \"adaptive\"]},\n",
    "\n",
    "search = RandomizedSearchCV(\n",
    "    estimator = pipeline,\n",
    "    param_distributions = param_grid,\n",
    "    n_iter = 500, \n",
    "    return_train_score = True,\n",
    "    n_jobs= -1,\n",
    "    scoring=\"f1\",\n",
    "    cv = KF,\n",
    "    verbose=3)\n",
    "search = search.fit(X, Y_SVM_train)\n",
    "print(search.best_params_, search.best_score_)"
   ]
  },
  {
   "cell_type": "code",
   "execution_count": 232,
   "id": "b5a843b6",
   "metadata": {},
   "outputs": [
    {
     "data": {
      "text/plain": [
       "(array([0.6654983 , 0.66609699, 0.666567  , 0.67438059, 0.66628217]),\n",
       " 0.6677733208159086,\n",
       " 0.5012460201028848,\n",
       " array([[    0, 77854],\n",
       "        [    0, 78243]]),\n",
       " array([0., 0., 0., 0., 0.]),\n",
       " 0.6640773209257743,\n",
       " 0.4970926321768636,\n",
       " array([[    0, 33644],\n",
       "        [    0, 33255]]),\n",
       " 0.9616677761077881)"
      ]
     },
     "execution_count": 232,
     "metadata": {},
     "output_type": "execute_result"
    }
   ],
   "source": [
    "# svm_train, Y_SVM_train, svm_test, Y_SVM_test\n",
    "chi_svm = SelectKBest(chi2, k = 110).fit_transform(svm_train, Y_SVM_train)\n",
    "chi_svm_test = SelectKBest(chi2, k = 110).fit_transform(svm_test, Y_SVM_test)\n",
    "SGD_SVM(chi_svm, Y_SVM_train, chi_svm_test, Y_SVM_test, params = [0.1, 0.0001, 0.1, 10000, \"invscaling\", \"l1\"])"
   ]
  },
  {
   "cell_type": "code",
   "execution_count": 227,
   "id": "5172f55f",
   "metadata": {},
   "outputs": [
    {
     "name": "stdout",
     "output_type": "stream",
     "text": [
      "Fitting 5 folds for each of 500 candidates, totalling 2500 fits\n",
      "{'selector__k': 50, 'model__warm_start': False, 'model__penalty': 'l1', 'model__max_iter': 1000, 'model__learning_rate': 'invscaling', 'model__l1_ratio': 0.7, 'model__eta0': 0.1, 'model__alpha': 0.1} 0.6677650108854161\n"
     ]
    }
   ],
   "source": [
    "# SelectK - F_class\n",
    "pipeline = Pipeline([('selector',SelectKBest(f_classif)),\n",
    "                     ('model',SGDClassifier(loss='hinge', shuffle=True,n_jobs = -1, \n",
    "                                            random_state = 42, eta0 = 0.0001, warm_start = True))])  \n",
    "                                                                                    \n",
    "# pipeline.get_params().keys()\n",
    "X= scaler(svm_train)\n",
    "param_grid = {'selector__k': range(50, 129, 10),\n",
    "              'model__l1_ratio': [0.1, 0.2, 0.3, 0.4, 0.5, 0.7],\n",
    "              \"model__max_iter\": [1000, 2000, 10000],\n",
    "              \"model__penalty\": [\"elasticnet\", \"l1\", \"l2\"],\n",
    "              \"model__alpha\" : [0.1, 0.01, 0.001, 0.0001],\n",
    "              \"model__warm_start\": [True, False],\n",
    "              \"model__eta0\": [0.1, 0.001, 0.0001],\n",
    "              \"model__learning_rate\" : [\"constant\", \"optimal\", \"invscaling\", \"adaptive\"]},\n",
    "\n",
    "search = RandomizedSearchCV(\n",
    "    estimator = pipeline,\n",
    "    param_distributions = param_grid,\n",
    "    n_iter = 500, \n",
    "    return_train_score = True,\n",
    "    n_jobs= -1,\n",
    "    scoring=\"f1\",\n",
    "    cv = KF,\n",
    "    verbose=3)\n",
    "search = search.fit(X, Y_SVM_train)\n",
    "print(search.best_params_, search.best_score_)"
   ]
  },
  {
   "cell_type": "code",
   "execution_count": null,
   "id": "73ecd2ac",
   "metadata": {},
   "outputs": [],
   "source": [
    "f_train, f_test = SelectKBest(f_classif, k = 50).fit_transform(svm_train, Y_SVM_train), SelectKBest(f_classif, k = 50).fit_transform(svm_test, Y_SVM_test)\n",
    "SGD_SVM(f_train, Y_SVM_train, f_test, Y_SVM_test, params = [0.1, 0.1, 0.7, 2000, \"invscaling\", \"l1\"])"
   ]
  },
  {
   "cell_type": "code",
   "execution_count": 228,
   "id": "72cd1f06",
   "metadata": {},
   "outputs": [
    {
     "name": "stdout",
     "output_type": "stream",
     "text": [
      "Fitting 5 folds for each of 10 candidates, totalling 50 fits\n",
      "{'selector__k': 50, 'model__warm_start': True, 'model__penalty': 'l1', 'model__max_iter': 1000, 'model__learning_rate': 'optimal', 'model__l1_ratio': 0.4, 'model__eta0': 0.0001, 'model__alpha': 0.001} 0.6590673329805824\n"
     ]
    }
   ],
   "source": [
    "# SelectK - MI\n",
    "pipeline = Pipeline([('selector',SelectKBest(mutual_info_classif)),\n",
    "                     ('model',SGDClassifier(loss='hinge', shuffle=True,n_jobs = -1, \n",
    "                                            random_state = 42, eta0 = 0.0001, warm_start = True))])  \n",
    "                                                                                    \n",
    "# pipeline.get_params().keys()\n",
    "X= scaler(svm_train)\n",
    "param_grid = {'selector__k': range(50, 129, 10),\n",
    "              'model__l1_ratio': [0.1, 0.2, 0.3, 0.4, 0.5, 0.7],\n",
    "              \"model__max_iter\": [1000, 2000, 10000],\n",
    "              \"model__penalty\": [\"elasticnet\", \"l1\", \"l2\"],\n",
    "              \"model__alpha\" : [0.1, 0.01, 0.001, 0.0001],\n",
    "              \"model__warm_start\": [True, False],\n",
    "              \"model__eta0\": [0.1, 0.001, 0.0001],\n",
    "              \"model__learning_rate\" : [\"constant\", \"optimal\", \"invscaling\", \"adaptive\"]},\n",
    "\n",
    "search = RandomizedSearchCV(\n",
    "    estimator = pipeline,\n",
    "    param_distributions = param_grid,\n",
    "    n_iter = 10, \n",
    "    return_train_score = True,\n",
    "    n_jobs= -1,\n",
    "    scoring=\"f1\",\n",
    "    cv = KF,\n",
    "    verbose=3)\n",
    "search = search.fit(X, Y_SVM_train)\n",
    "print(search.best_params_, search.best_score_)"
   ]
  },
  {
   "cell_type": "code",
   "execution_count": 49,
   "id": "0306ef94",
   "metadata": {},
   "outputs": [],
   "source": [
    "MI_train, MI_test = SelectKBest(mutual_info_classif, k = 50).fit_transform(svm_train, Y_SVM_train), SelectKBest(mutual_info_classif, k = 50).fit_transform(svm_test, Y_SVM_test)\n",
    "SGD_LOG(MI_train, Y__SVM_train, MI_test, Y__SVM_test, params = [0.001, 0.0001, 0.4, 1000, \"optimal\", \"l1\"])"
   ]
  },
  {
   "cell_type": "code",
   "execution_count": 246,
   "id": "2aeb04f8",
   "metadata": {},
   "outputs": [
    {
     "name": "stdout",
     "output_type": "stream",
     "text": [
      "3 [154  15  48  18  47  46   5  10   8  30  29  53  52  55  59  54  72  17\n",
      "  74  73  16  82  83  85  86  66  27  87  12  24  99 102 105 106 104  13\n",
      " 108 110  56 112   7  50 113  22  25 120  49  35 119 117   9  14  63 130\n",
      "  65 143 129  19 135 136 141 142 138 139  67  76  88  90  92  94  23 122\n",
      " 124   6 146  20  11 152 153 151  21  78  77  96  93  97  98  75 103 101\n",
      " 100  80   1   2   3   1   1  40 107  41 115  84  79 116  69  36   4  57\n",
      "  34  31  28  45 140  51 132  38 123 144  81  42  44  91 109  95 133  43\n",
      "  89 148 114 118 131  39 147 145  70  26 121 111  32  33 134  58  60  61\n",
      "  62  64  68  71  37 125 126 127 128 137 149 150]\n"
     ]
    }
   ],
   "source": [
    "# RFE - Orginal model\n",
    "estimator = SGDClassifier(loss='hinge', shuffle=True, penalty = \"l1\", n_jobs = -1, random_state = 42, alpha = 0.0001,\n",
    "                    learning_rate=\"optimal\", warm_start = True, eta0 = 0.1, l1_ratio= 0.1, max_iter= 1000)\n",
    "selector = RFECV(estimator, step = 1, cv = KF, n_jobs = -1, scoring = \"f1\").fit(scaler(svm_train), Y_SVM_train)\n",
    "print(selector.n_features_, selector.ranking_)"
   ]
  },
  {
   "cell_type": "code",
   "execution_count": 248,
   "id": "0625e067",
   "metadata": {},
   "outputs": [
    {
     "data": {
      "text/plain": [
       "(array([0.60842158, 0.60805373, 0.60562561, 0.61390492, 0.60021091]),\n",
       " 0.6072568908367504,\n",
       " 0.5453275847710077,\n",
       " array([[30255, 47599],\n",
       "        [23374, 54869]]),\n",
       " array([0.60195185, 0.60874049, 0.61277419, 0.59785696, 0.61006733]),\n",
       " 0.6062913864542862,\n",
       " 0.5440739024499619,\n",
       " array([[12913, 20731],\n",
       "        [ 9770, 23485]]),\n",
       " 0.14113712310791016)"
      ]
     },
     "execution_count": 248,
     "metadata": {},
     "output_type": "execute_result"
    }
   ],
   "source": [
    "RFE = pd.DataFrame(selector.support_, index = svm_train.columns).rename(columns = {0:\"selected\"})  \n",
    "RFE_train, RFE_test = svm_train[RFE[RFE.selected == True].index], svm_test[RFE[RFE.selected == True].index]\n",
    "SGD_SVM(RFE_train, Y_SVM_train, RFE_test, Y_SVM_test, params = [0.001, 0.0001, 0.4, 1000, \"optimal\", \"l1\"])"
   ]
  }
 ],
 "metadata": {
  "kernelspec": {
   "display_name": "Python 3",
   "language": "python",
   "name": "python3"
  },
  "language_info": {
   "codemirror_mode": {
    "name": "ipython",
    "version": 3
   },
   "file_extension": ".py",
   "mimetype": "text/x-python",
   "name": "python",
   "nbconvert_exporter": "python",
   "pygments_lexer": "ipython3",
   "version": "3.8.8"
  }
 },
 "nbformat": 4,
 "nbformat_minor": 5
}
